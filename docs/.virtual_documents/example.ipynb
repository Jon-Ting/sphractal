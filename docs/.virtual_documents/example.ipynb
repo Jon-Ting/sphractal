


%load_ext autoreload
%autoreload 2





!echo $FASTBC_EXE





from sphractal.datasets import getExampleDataPath

xyzFilePath = getExampleDataPath()
print(xyzFilePath)








from sphractal import runBoxCnt

boxCntResults = runBoxCnt(xyzFilePath, showPlot=True, verbose=True)





from sphractal import readXYZ, findNN, findSurf

eles, rads, xyzs, maxrange, minxyz, maxxyz = readXYZ(xyzFilePath)
neighs, bondlens = findNN(rads, xyzs, minxyz, maxxyz, rads.max(), 1.2)
surfs = findSurf(xyzs, neighs, 'alphaShape', 2*rads.min())





from sphractal import getVoxelBoxCnts

scalesPointCloud, countsPointCloud = getVoxelBoxCnts(eles, rads, surfs, xyzs, neighs, 
                                                     'example', radType='atomic', verbose=True)





from sphractal import findSlope

r2PointCloud, bcDimPointCloud, confIntPointCloud = findSlope(scalesPointCloud, countsPointCloud, npName='example_PC', showPlot=True)





from sphractal import getSphereBoxCnts

scalesExactSurfs, countsExactSurfs = getSphereBoxCnts(eles, rads, surfs, xyzs, neighs, 
                                                      maxrange, (rads.min() * 0.25, rads.min() * 1), minxyz, 'example', verbose=True)





r2ExactSurfs, bcDimExactSurfs, confIntExactSurfs = findSlope(scalesExactSurfs, countsExactSurfs, npName='example_ES', showPlot=True)
